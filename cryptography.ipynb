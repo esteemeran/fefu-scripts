{
  "nbformat": 4,
  "nbformat_minor": 0,
  "metadata": {
    "colab": {
      "provenance": [],
      "authorship_tag": "ABX9TyPVbPWcml1RXUyocuPh8wnd",
      "include_colab_link": true
    },
    "kernelspec": {
      "name": "python3",
      "display_name": "Python 3"
    },
    "language_info": {
      "name": "python"
    }
  },
  "cells": [
    {
      "cell_type": "markdown",
      "metadata": {
        "id": "view-in-github",
        "colab_type": "text"
      },
      "source": [
        "<a href=\"https://colab.research.google.com/github/esteemeran/fefu-scripts/blob/master/cryptography.ipynb\" target=\"_parent\"><img src=\"https://colab.research.google.com/assets/colab-badge.svg\" alt=\"Open In Colab\"/></a>"
      ]
    },
    {
      "cell_type": "code",
      "source": [
        "import random\n",
        "import string"
      ],
      "metadata": {
        "id": "SpNSni5vtLaA"
      },
      "execution_count": 34,
      "outputs": []
    },
    {
      "cell_type": "code",
      "source": [
        "#lab 1 Шифр простой одинарной перестановки\n",
        "line = \"KOZLOVA\"\n",
        "size = len(line)\n",
        "codeTable = list(range(0, size))\n",
        "print(codeTable, line)\n",
        "\n",
        "random.shuffle(codeTable)\n",
        "codedLine = \"\"\n",
        "for i in codeTable:\n",
        "  codedLine = codedLine + line[i]\n",
        "print(codeTable, codedLine)\n",
        "\n",
        "key = list()\n",
        "n = int(\"\".join(str(x) for x in codeTable))\n",
        "maxASCII = 0x10FFFF #1114111 = len 7\n",
        "\n",
        "n\n",
        "\n",
        "for i in range(0, nrange):\n",
        "  key.append(chr(i))\n",
        "print(nrange, key)"
      ],
      "metadata": {
        "colab": {
          "base_uri": "https://localhost:8080/"
        },
        "id": "5NUYbCltq2LQ",
        "outputId": "85e2ba53-c967-4ec4-df2e-65ddc5c76306"
      },
      "execution_count": 65,
      "outputs": [
        {
          "output_type": "stream",
          "name": "stdout",
          "text": [
            "[0, 1, 2, 3, 4, 5, 6] KOZLOVA\n",
            "[5, 0, 1, 6, 2, 3, 4] VKOAZLO\n",
            "0 []\n"
          ]
        }
      ]
    },
    {
      "cell_type": "code",
      "source": [
        "#lab 2 Лозунговый Шифр\n",
        "line = \"KOZLOVA_SVETLANA_EVGENIEVNA\";\n",
        "key = \"Supercalifragilisticexpialidocious\";\n",
        "key = key.upper();\n",
        "languageTable = \"\".join((string.ascii_uppercase)+\"_\");\n",
        "print(key + \"\\n\" + languageTable)\n",
        "\n",
        "newLanguageTable = dict.fromkeys(key + languageTable);\n",
        "print(\"\".join(newLanguageTable))\n",
        "\n",
        "#for i in newLanguageTable:\n"
      ],
      "metadata": {
        "colab": {
          "base_uri": "https://localhost:8080/"
        },
        "id": "DLpbaGtYq6Fq",
        "outputId": "3a0e42ab-e4b7-4827-ecc8-756310b889eb"
      },
      "execution_count": 38,
      "outputs": [
        {
          "output_type": "stream",
          "name": "stdout",
          "text": [
            "SUPERCALIFRAGILISTICEXPIALIDOCIOUS\n",
            "ABCDEFGHIJKLMNOPQRSTUVWXYZ_\n",
            "SUPERCALIFGTXDOBHJKMNQVWYZ_\n"
          ]
        }
      ]
    },
    {
      "cell_type": "code",
      "execution_count": null,
      "metadata": {
        "id": "2g5Wv-5pvOFq",
        "colab": {
          "base_uri": "https://localhost:8080/"
        },
        "outputId": "64da9b69-b54b-46d5-bb4e-22113dc651ec"
      },
      "outputs": [
        {
          "output_type": "execute_result",
          "data": {
            "text/plain": [
              "[['Ы', 'О', 'Е', 'Ч', 'Т'],\n",
              " ['Т', 'О', 'У', '_', 'С'],\n",
              " ['Н', 'С', 'О', 'Р', 'Ч'],\n",
              " ['Т', 'Р', 'Н', 'А', 'И'],\n",
              " ['Д', 'Ь', 'Н', '_', 'Е']]"
            ]
          },
          "metadata": {},
          "execution_count": 17
        }
      ],
      "source": [
        "#lab 3 coded: перестановка столбцов\n",
        "file = open(\"/content/coded lab3.txt\", 'r', encoding='utf-8-sig')\n",
        "\n",
        "#while True:\n",
        "line = file.readline()\n",
        "#if not line:\n",
        "#  break\n",
        "\n",
        "charList = list(line.strip())\n",
        "arr = []\n",
        "if len(charList) == 25:\n",
        "  cows, rows = (5,5)\n",
        "  n = 0\n",
        "  for i in range(cows):\n",
        "    col = []\n",
        "    for j in range(rows):\n",
        "      col.append(charList[n])\n",
        "      n+=1\n",
        "    arr.append(col)\n",
        "arr\n"
      ]
    }
  ]
}