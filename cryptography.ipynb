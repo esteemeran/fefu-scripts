{
  "nbformat": 4,
  "nbformat_minor": 0,
  "metadata": {
    "colab": {
      "provenance": [],
      "mount_file_id": "1nFNOpcTMRRvPeXSgqQfFhyWW31n_fsqM",
      "authorship_tag": "ABX9TyPNA1QDwRqYyY/3sX0iEevF",
      "include_colab_link": true
    },
    "kernelspec": {
      "name": "python3",
      "display_name": "Python 3"
    },
    "language_info": {
      "name": "python"
    }
  },
  "cells": [
    {
      "cell_type": "markdown",
      "metadata": {
        "id": "view-in-github",
        "colab_type": "text"
      },
      "source": [
        "<a href=\"https://colab.research.google.com/github/esteemeran/fefu-scripts/blob/master/cryptography.ipynb\" target=\"_parent\"><img src=\"https://colab.research.google.com/assets/colab-badge.svg\" alt=\"Open In Colab\"/></a>"
      ]
    },
    {
      "cell_type": "code",
      "source": [
        "import random\n",
        "import string\n",
        "import math\n",
        "import textwrap\n",
        "import itertools"
      ],
      "metadata": {
        "id": "SpNSni5vtLaA"
      },
      "execution_count": 1,
      "outputs": []
    },
    {
      "cell_type": "code",
      "source": [
        "#lab 1 Шифр простой одинарной перестановки\n",
        "line = \"KOZLOVA\"\n",
        "size = len(line)\n",
        "codeTable = list(range(0, size))\n",
        "print(codeTable, line)\n",
        "\n",
        "random.shuffle(codeTable)\n",
        "codedLine = \"\"\n",
        "for i in codeTable:\n",
        "  codedLine = codedLine + line[i]\n",
        "print(codeTable, codedLine)\n",
        "\n",
        "key = \"\"\n",
        "n = (\"\".join(str(x) for x in codeTable))\n",
        "x = textwrap.fill(n, 4).split() #max 7\n",
        "for i in x:\n",
        "  key = key + chr(int(i))\n",
        "print(\"key\", key)"
      ],
      "metadata": {
        "colab": {
          "base_uri": "https://localhost:8080/"
        },
        "id": "5NUYbCltq2LQ",
        "outputId": "e6713c6c-5fcf-4bdb-8858-bae567d8424f"
      },
      "execution_count": null,
      "outputs": [
        {
          "output_type": "stream",
          "name": "stdout",
          "text": [
            "[0, 1, 2, 3, 4, 5, 6] KOZLOVA\n",
            "[3, 6, 5, 1, 2, 0, 4] LAVOZKO\n",
            "key ใÌ\n"
          ]
        }
      ]
    },
    {
      "cell_type": "code",
      "source": [
        "#lab 2 Лозунговый Шифр\n",
        "line = \"KOZLOVA_SVETLANA_EVGENIEVNA\".replace(\"_\", \"\");\n",
        "print(line)\n",
        "key = \"Supercalifragilisticexpialidocious\".upper();\n",
        "languageTable = \"\".join((string.ascii_uppercase))#+\"_\");\n",
        "print(key + \"\\n\" + languageTable)\n",
        "\n",
        "newLanguageTable = dict.fromkeys(key + languageTable);\n",
        "newLanguageTable = \"\".join(newLanguageTable)\n",
        "print(newLanguageTable)\n",
        "\n",
        "codedLine = \"\"\n",
        "for i in line:\n",
        "  old = languageTable.find(i)\n",
        "  new = newLanguageTable[old]\n",
        "  codedLine = codedLine + new\n",
        "print(codedLine)\n"
      ],
      "metadata": {
        "colab": {
          "base_uri": "https://localhost:8080/"
        },
        "id": "DLpbaGtYq6Fq",
        "outputId": "ac3b9770-f0ab-4967-d15b-da932a106eee"
      },
      "execution_count": null,
      "outputs": [
        {
          "output_type": "stream",
          "name": "stdout",
          "text": [
            "KOZLOVASVETLANAEVGENIEVNA\n",
            "SUPERCALIFRAGILISTICEXPIALIDOCIOUS\n",
            "ABCDEFGHIJKLMNOPQRSTUVWXYZ\n",
            "SUPERCALIFGTXDOBHJKMNQVWYZ\n",
            "GOZTOQSKQRMTSDSRQARDIRQDS\n"
          ]
        }
      ]
    },
    {
      "cell_type": "code",
      "execution_count": 3,
      "metadata": {
        "id": "2g5Wv-5pvOFq",
        "colab": {
          "base_uri": "https://localhost:8080/"
        },
        "outputId": "a59e83ee-ff13-4029-c547-5cf1a297d816"
      },
      "outputs": [
        {
          "output_type": "stream",
          "name": "stdout",
          "text": [
            "[['С', 'В', 'П', 'О', 'О'], ['З', 'Л', 'У', 'Й', 'Ь'], ['С', 'Т', 'Ь', '_', 'Е'], ['Д', 'П', 'С', 'К', 'О'], ['К', 'А', 'О', 'Й', 'З']]\n",
            "['С', 'В', 'П', 'О', 'О']\n",
            "ОСВПОЬЗЛУЙЕСТЬ_ОДПСКЗКАОЙ\n",
            "ОСВОПЬЗЛЙУЕСТ_ЬОДПКСЗКАЙО\n",
            "ОСПВОЬЗУЛЙЕСЬТ_ОДСПКЗКОАЙ\n",
            "ОСПОВЬЗУЙЛЕСЬ_ТОДСКПЗКОЙА\n",
            "ОСОВПЬЗЙЛУЕС_ТЬОДКПСЗКЙАО\n",
            "ОСОПВЬЗЙУЛЕС_ЬТОДКСПЗКЙОА\n",
            "ОВСПОЬЛЗУЙЕТСЬ_ОПДСКЗАКОЙ\n",
            "ОВСОПЬЛЗЙУЕТС_ЬОПДКСЗАКЙО\n",
            "ОВПСОЬЛУЗЙЕТЬС_ОПСДКЗАОКЙ\n",
            "ОВПОСЬЛУЙЗЕТЬ_СОПСКДЗАОЙК\n",
            "ОВОСПЬЛЙЗУЕТ_СЬОПКДСЗАЙКО\n",
            "ОВОПСЬЛЙУЗЕТ_ЬСОПКСДЗАЙОК\n",
            "ОПСВОЬУЗЛЙЕЬСТ_ОСДПКЗОКАЙ\n",
            "ОПСОВЬУЗЙЛЕЬС_ТОСДКПЗОКЙА\n",
            "ОПВСОЬУЛЗЙЕЬТС_ОСПДКЗОАКЙ\n",
            "ОПВОСЬУЛЙЗЕЬТ_СОСПКДЗОАЙК\n",
            "ОПОСВЬУЙЗЛЕЬ_СТОСКДПЗОЙКА\n",
            "ОПОВСЬУЙЛЗЕЬ_ТСОСКПДЗОЙАК\n",
            "ООСВПЬЙЗЛУЕ_СТЬОКДПСЗЙКАО\n",
            "ООСПВЬЙЗУЛЕ_СЬТОКДСПЗЙКОА\n",
            "ООВСПЬЙЛЗУЕ_ТСЬОКПДСЗЙАКО\n",
            "ООВПСЬЙЛУЗЕ_ТЬСОКПСДЗЙАОК\n",
            "ООПСВЬЙУЗЛЕ_ЬСТОКСДПЗЙОКА\n",
            "ООПВСЬЙУЛЗЕ_ЬТСОКСПДЗЙОАК\n",
            "СОВПОЗЬЛУЙСЕТЬ_ДОПСККЗАОЙ\n",
            "СОВОПЗЬЛЙУСЕТ_ЬДОПКСКЗАЙО\n",
            "СОПВОЗЬУЛЙСЕЬТ_ДОСПККЗОАЙ\n",
            "СОПОВЗЬУЙЛСЕЬ_ТДОСКПКЗОЙА\n",
            "СООВПЗЬЙЛУСЕ_ТЬДОКПСКЗЙАО\n",
            "СООПВЗЬЙУЛСЕ_ЬТДОКСПКЗЙОА\n",
            "СВОПОЗЛЬУЙСТЕЬ_ДПОСККАЗОЙ\n",
            "СВООПЗЛЬЙУСТЕ_ЬДПОКСКАЗЙО\n",
            "СВПООЗЛУЬЙСТЬЕ_ДПСОККАОЗЙ\n",
            "СВПООЗЛУЙЬСТЬ_ЕДПСКОКАОЙЗ\n",
            "СВООПЗЛЙЬУСТ_ЕЬДПКОСКАЙЗО\n",
            "СВОПОЗЛЙУЬСТ_ЬЕДПКСОКАЙОЗ\n",
            "СПОВОЗУЬЛЙСЬЕТ_ДСОПККОЗАЙ\n",
            "СПООВЗУЬЙЛСЬЕ_ТДСОКПКОЗЙА\n",
            "СПВООЗУЛЬЙСЬТЕ_ДСПОККОАЗЙ\n",
            "СПВООЗУЛЙЬСЬТ_ЕДСПКОКОАЙЗ\n",
            "СПООВЗУЙЬЛСЬ_ЕТДСКОПКОЙЗА\n",
            "СПОВОЗУЙЛЬСЬ_ТЕДСКПОКОЙАЗ\n",
            "СООВПЗЙЬЛУС_ЕТЬДКОПСКЙЗАО\n",
            "СООПВЗЙЬУЛС_ЕЬТДКОСПКЙЗОА\n",
            "СОВОПЗЙЛЬУС_ТЕЬДКПОСКЙАЗО\n",
            "СОВПОЗЙЛУЬС_ТЬЕДКПСОКЙАОЗ\n",
            "СОПОВЗЙУЬЛС_ЬЕТДКСОПКЙОЗА\n",
            "СОПВОЗЙУЛЬС_ЬТЕДКСПОКЙОАЗ\n",
            "ВОСПОЛЬЗУЙТЕСЬ_ПОДСКАЗКОЙ\n",
            "ВОСОПЛЬЗЙУТЕС_ЬПОДКСАЗКЙО\n",
            "ВОПСОЛЬУЗЙТЕЬС_ПОСДКАЗОКЙ\n",
            "ВОПОСЛЬУЙЗТЕЬ_СПОСКДАЗОЙК\n",
            "ВООСПЛЬЙЗУТЕ_СЬПОКДСАЗЙКО\n",
            "ВООПСЛЬЙУЗТЕ_ЬСПОКСДАЗЙОК\n",
            "ВСОПОЛЗЬУЙТСЕЬ_ПДОСКАКЗОЙ\n",
            "ВСООПЛЗЬЙУТСЕ_ЬПДОКСАКЗЙО\n",
            "ВСПООЛЗУЬЙТСЬЕ_ПДСОКАКОЗЙ\n",
            "ВСПООЛЗУЙЬТСЬ_ЕПДСКОАКОЙЗ\n",
            "ВСООПЛЗЙЬУТС_ЕЬПДКОСАКЙЗО\n",
            "ВСОПОЛЗЙУЬТС_ЬЕПДКСОАКЙОЗ\n",
            "ВПОСОЛУЬЗЙТЬЕС_ПСОДКАОЗКЙ\n",
            "ВПООСЛУЬЙЗТЬЕ_СПСОКДАОЗЙК\n",
            "ВПСООЛУЗЬЙТЬСЕ_ПСДОКАОКЗЙ\n",
            "ВПСООЛУЗЙЬТЬС_ЕПСДКОАОКЙЗ\n",
            "ВПООСЛУЙЬЗТЬ_ЕСПСКОДАОЙЗК\n",
            "ВПОСОЛУЙЗЬТЬ_СЕПСКДОАОЙКЗ\n",
            "ВООСПЛЙЬЗУТ_ЕСЬПКОДСАЙЗКО\n",
            "ВООПСЛЙЬУЗТ_ЕЬСПКОСДАЙЗОК\n",
            "ВОСОПЛЙЗЬУТ_СЕЬПКДОСАЙКЗО\n",
            "ВОСПОЛЙЗУЬТ_СЬЕПКДСОАЙКОЗ\n",
            "ВОПОСЛЙУЬЗТ_ЬЕСПКСОДАЙОЗК\n",
            "ВОПСОЛЙУЗЬТ_ЬСЕПКСДОАЙОКЗ\n",
            "ПОСВОУЬЗЛЙЬЕСТ_СОДПКОЗКАЙ\n",
            "ПОСОВУЬЗЙЛЬЕС_ТСОДКПОЗКЙА\n",
            "ПОВСОУЬЛЗЙЬЕТС_СОПДКОЗАКЙ\n",
            "ПОВОСУЬЛЙЗЬЕТ_ССОПКДОЗАЙК\n",
            "ПООСВУЬЙЗЛЬЕ_СТСОКДПОЗЙКА\n",
            "ПООВСУЬЙЛЗЬЕ_ТССОКПДОЗЙАК\n",
            "ПСОВОУЗЬЛЙЬСЕТ_СДОПКОКЗАЙ\n",
            "ПСООВУЗЬЙЛЬСЕ_ТСДОКПОКЗЙА\n",
            "ПСВООУЗЛЬЙЬСТЕ_СДПОКОКАЗЙ\n",
            "ПСВООУЗЛЙЬЬСТ_ЕСДПКООКАЙЗ\n",
            "ПСООВУЗЙЬЛЬС_ЕТСДКОПОКЙЗА\n",
            "ПСОВОУЗЙЛЬЬС_ТЕСДКПООКЙАЗ\n",
            "ПВОСОУЛЬЗЙЬТЕС_СПОДКОАЗКЙ\n",
            "ПВООСУЛЬЙЗЬТЕ_ССПОКДОАЗЙК\n",
            "ПВСООУЛЗЬЙЬТСЕ_СПДОКОАКЗЙ\n",
            "ПВСООУЛЗЙЬЬТС_ЕСПДКООАКЙЗ\n",
            "ПВООСУЛЙЬЗЬТ_ЕССПКОДОАЙЗК\n",
            "ПВОСОУЛЙЗЬЬТ_СЕСПКДООАЙКЗ\n",
            "ПООСВУЙЬЗЛЬ_ЕСТСКОДПОЙЗКА\n",
            "ПООВСУЙЬЛЗЬ_ЕТССКОПДОЙЗАК\n",
            "ПОСОВУЙЗЬЛЬ_СЕТСКДОПОЙКЗА\n",
            "ПОСВОУЙЗЛЬЬ_СТЕСКДПООЙКАЗ\n",
            "ПОВОСУЙЛЬЗЬ_ТЕССКПОДОЙАЗК\n",
            "ПОВСОУЙЛЗЬЬ_ТСЕСКПДООЙАКЗ\n",
            "ООСВПЙЬЗЛУ_ЕСТЬКОДПСЙЗКАО\n",
            "ООСПВЙЬЗУЛ_ЕСЬТКОДСПЙЗКОА\n",
            "ООВСПЙЬЛЗУ_ЕТСЬКОПДСЙЗАКО\n",
            "ООВПСЙЬЛУЗ_ЕТЬСКОПСДЙЗАОК\n",
            "ООПСВЙЬУЗЛ_ЕЬСТКОСДПЙЗОКА\n",
            "ООПВСЙЬУЛЗ_ЕЬТСКОСПДЙЗОАК\n",
            "ОСОВПЙЗЬЛУ_СЕТЬКДОПСЙКЗАО\n",
            "ОСОПВЙЗЬУЛ_СЕЬТКДОСПЙКЗОА\n",
            "ОСВОПЙЗЛЬУ_СТЕЬКДПОСЙКАЗО\n",
            "ОСВПОЙЗЛУЬ_СТЬЕКДПСОЙКАОЗ\n",
            "ОСПОВЙЗУЬЛ_СЬЕТКДСОПЙКОЗА\n",
            "ОСПВОЙЗУЛЬ_СЬТЕКДСПОЙКОАЗ\n",
            "ОВОСПЙЛЬЗУ_ТЕСЬКПОДСЙАЗКО\n",
            "ОВОПСЙЛЬУЗ_ТЕЬСКПОСДЙАЗОК\n",
            "ОВСОПЙЛЗЬУ_ТСЕЬКПДОСЙАКЗО\n",
            "ОВСПОЙЛЗУЬ_ТСЬЕКПДСОЙАКОЗ\n",
            "ОВПОСЙЛУЬЗ_ТЬЕСКПСОДЙАОЗК\n",
            "ОВПСОЙЛУЗЬ_ТЬСЕКПСДОЙАОКЗ\n",
            "ОПОСВЙУЬЗЛ_ЬЕСТКСОДПЙОЗКА\n",
            "ОПОВСЙУЬЛЗ_ЬЕТСКСОПДЙОЗАК\n",
            "ОПСОВЙУЗЬЛ_ЬСЕТКСДОПЙОКЗА\n",
            "ОПСВОЙУЗЛЬ_ЬСТЕКСДПОЙОКАЗ\n",
            "ОПВОСЙУЛЬЗ_ЬТЕСКСПОДЙОАЗК\n",
            "ОПВСОЙУЛЗЬ_ЬТСЕКСПДОЙОАКЗ\n"
          ]
        }
      ],
      "source": [
        "#lab 3 coded: столбцовая перестановка\n",
        "#file = open(\"/content/coded lab3.txt\", 'r', encoding='utf-8-sig')\n",
        "#while True:\n",
        "#line = file.readline()\n",
        "#if not line:\n",
        "#  break\n",
        "\n",
        "fileBig = open(\"/content/drive/MyDrive/Colab Notebooks/bigramms ru.txt\", 'r', encoding='utf-8-sig')\n",
        "cols, rows = (32, 32)\n",
        "bigsTable = [[0 for i in range(cols)] for j in range(rows)] #2d array of 0\n",
        "ruLanguage = \"\"\n",
        "for i in range(rows+1):\n",
        "  nCols = fileBig.readline().split(\"\\t\")\n",
        "  j = 0\n",
        "  for currChr in nCols:\n",
        "      if i == 0:\n",
        "        ruLanguage = ruLanguage + currChr.upper()\n",
        "      else:\n",
        "        bigsTable[i-1][j] = currChr\n",
        "        j=j+1\n",
        "\n",
        "line = \"СВПОО\"+\"ЗЛУЙЬ\"+\"СТЬ_Е\"+\"ДПСКО\" + \"КАОЙЗ\"\n",
        "charList = list(line.strip())\n",
        "table = []\n",
        "\n",
        "cols, rows = (5,5)\n",
        "n = 0\n",
        "for i in range(cols):\n",
        "  arr = []\n",
        "  for j in range(rows):\n",
        "    arr.append(charList[n])\n",
        "    n+=1\n",
        "  table.append(arr)\n",
        "\n",
        "print(table)\n",
        "print(table[0])\n",
        "\n",
        "#перестановки\n",
        "my_list = [i for i in range(cols)]\n",
        "permutations = list(itertools.permutations(my_list))\n",
        "\n",
        "res = []\n",
        "for p in permutations:\n",
        "  curr = \"\"\n",
        "  # p = [2, 5, 1, 3, 4]\n",
        "  # print(p)\n",
        "  for i in range(cols):\n",
        "    c = \"\"\n",
        "    for index in p:\n",
        "      c = c + table[i][index-1]\n",
        "    curr = curr + c\n",
        "  print(curr)\n",
        "\n",
        "  # пытаемся избавиться от менее возможных вариантов\n",
        "  for word in res:\n",
        "    a=1"
      ]
    },
    {
      "cell_type": "markdown",
      "source": [],
      "metadata": {
        "id": "sMsZycmEtZ_x"
      }
    }
  ]
}